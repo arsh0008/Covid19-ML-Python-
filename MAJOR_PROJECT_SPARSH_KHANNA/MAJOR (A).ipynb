{
 "cells": [
  {
   "cell_type": "code",
   "execution_count": 1,
   "metadata": {},
   "outputs": [],
   "source": [
    "import pandas as pd\n",
    "import numpy as np\n",
    "import matplotlib.pyplot as plt"
   ]
  },
  {
   "cell_type": "code",
   "execution_count": 5,
   "metadata": {},
   "outputs": [],
   "source": [
    "india = pd.read_csv(\"state_wise.csv\")"
   ]
  },
  {
   "cell_type": "code",
   "execution_count": 4,
   "metadata": {},
   "outputs": [
    {
     "data": {
      "text/html": [
       "<div>\n",
       "<style scoped>\n",
       "    .dataframe tbody tr th:only-of-type {\n",
       "        vertical-align: middle;\n",
       "    }\n",
       "\n",
       "    .dataframe tbody tr th {\n",
       "        vertical-align: top;\n",
       "    }\n",
       "\n",
       "    .dataframe thead th {\n",
       "        text-align: right;\n",
       "    }\n",
       "</style>\n",
       "<table border=\"1\" class=\"dataframe\">\n",
       "  <thead>\n",
       "    <tr style=\"text-align: right;\">\n",
       "      <th></th>\n",
       "      <th>Confirmed</th>\n",
       "      <th>Recovered</th>\n",
       "      <th>Deaths</th>\n",
       "      <th>Active</th>\n",
       "      <th>Migrated_Other</th>\n",
       "      <th>Delta_Confirmed</th>\n",
       "      <th>Delta_Recovered</th>\n",
       "      <th>Delta_Deaths</th>\n",
       "    </tr>\n",
       "  </thead>\n",
       "  <tbody>\n",
       "    <tr>\n",
       "      <th>count</th>\n",
       "      <td>38.000000</td>\n",
       "      <td>38.000000</td>\n",
       "      <td>38.000000</td>\n",
       "      <td>38.000000</td>\n",
       "      <td>38.000000</td>\n",
       "      <td>38.000000</td>\n",
       "      <td>38.000000</td>\n",
       "      <td>38.000000</td>\n",
       "    </tr>\n",
       "    <tr>\n",
       "      <th>mean</th>\n",
       "      <td>44686.684211</td>\n",
       "      <td>28170.263158</td>\n",
       "      <td>1193.578947</td>\n",
       "      <td>15302.842105</td>\n",
       "      <td>20.000000</td>\n",
       "      <td>1391.736842</td>\n",
       "      <td>999.210526</td>\n",
       "      <td>28.105263</td>\n",
       "    </tr>\n",
       "    <tr>\n",
       "      <th>std</th>\n",
       "      <td>141916.984698</td>\n",
       "      <td>89106.588184</td>\n",
       "      <td>3974.356712</td>\n",
       "      <td>49122.563376</td>\n",
       "      <td>76.807939</td>\n",
       "      <td>4442.658005</td>\n",
       "      <td>3166.487603</td>\n",
       "      <td>92.671401</td>\n",
       "    </tr>\n",
       "    <tr>\n",
       "      <th>min</th>\n",
       "      <td>0.000000</td>\n",
       "      <td>0.000000</td>\n",
       "      <td>0.000000</td>\n",
       "      <td>0.000000</td>\n",
       "      <td>0.000000</td>\n",
       "      <td>-745.000000</td>\n",
       "      <td>0.000000</td>\n",
       "      <td>0.000000</td>\n",
       "    </tr>\n",
       "    <tr>\n",
       "      <th>25%</th>\n",
       "      <td>1101.500000</td>\n",
       "      <td>482.250000</td>\n",
       "      <td>1.250000</td>\n",
       "      <td>316.500000</td>\n",
       "      <td>0.000000</td>\n",
       "      <td>1.000000</td>\n",
       "      <td>0.000000</td>\n",
       "      <td>0.000000</td>\n",
       "    </tr>\n",
       "    <tr>\n",
       "      <th>50%</th>\n",
       "      <td>5635.500000</td>\n",
       "      <td>3495.500000</td>\n",
       "      <td>33.500000</td>\n",
       "      <td>2884.000000</td>\n",
       "      <td>0.000000</td>\n",
       "      <td>70.000000</td>\n",
       "      <td>13.000000</td>\n",
       "      <td>1.500000</td>\n",
       "    </tr>\n",
       "    <tr>\n",
       "      <th>75%</th>\n",
       "      <td>26262.250000</td>\n",
       "      <td>15225.000000</td>\n",
       "      <td>461.250000</td>\n",
       "      <td>8603.000000</td>\n",
       "      <td>2.250000</td>\n",
       "      <td>831.250000</td>\n",
       "      <td>583.750000</td>\n",
       "      <td>9.750000</td>\n",
       "    </tr>\n",
       "    <tr>\n",
       "      <th>max</th>\n",
       "      <td>849047.000000</td>\n",
       "      <td>535235.000000</td>\n",
       "      <td>22678.000000</td>\n",
       "      <td>290754.000000</td>\n",
       "      <td>380.000000</td>\n",
       "      <td>26443.000000</td>\n",
       "      <td>18985.000000</td>\n",
       "      <td>534.000000</td>\n",
       "    </tr>\n",
       "  </tbody>\n",
       "</table>\n",
       "</div>"
      ],
      "text/plain": [
       "           Confirmed      Recovered        Deaths         Active  \\\n",
       "count      38.000000      38.000000     38.000000      38.000000   \n",
       "mean    44686.684211   28170.263158   1193.578947   15302.842105   \n",
       "std    141916.984698   89106.588184   3974.356712   49122.563376   \n",
       "min         0.000000       0.000000      0.000000       0.000000   \n",
       "25%      1101.500000     482.250000      1.250000     316.500000   \n",
       "50%      5635.500000    3495.500000     33.500000    2884.000000   \n",
       "75%     26262.250000   15225.000000    461.250000    8603.000000   \n",
       "max    849047.000000  535235.000000  22678.000000  290754.000000   \n",
       "\n",
       "       Migrated_Other  Delta_Confirmed  Delta_Recovered  Delta_Deaths  \n",
       "count       38.000000        38.000000        38.000000     38.000000  \n",
       "mean        20.000000      1391.736842       999.210526     28.105263  \n",
       "std         76.807939      4442.658005      3166.487603     92.671401  \n",
       "min          0.000000      -745.000000         0.000000      0.000000  \n",
       "25%          0.000000         1.000000         0.000000      0.000000  \n",
       "50%          0.000000        70.000000        13.000000      1.500000  \n",
       "75%          2.250000       831.250000       583.750000      9.750000  \n",
       "max        380.000000     26443.000000     18985.000000    534.000000  "
      ]
     },
     "execution_count": 4,
     "metadata": {},
     "output_type": "execute_result"
    }
   ],
   "source": [
    "india.describe()"
   ]
  },
  {
   "cell_type": "code",
   "execution_count": 6,
   "metadata": {},
   "outputs": [],
   "source": [
    "state = pd.DataFrame(india[india[\"State\"]==\"Punjab\"])"
   ]
  },
  {
   "cell_type": "code",
   "execution_count": 7,
   "metadata": {},
   "outputs": [
    {
     "data": {
      "text/plain": [
       "17    12822\n",
       "dtype: int64"
      ]
     },
     "execution_count": 7,
     "metadata": {},
     "output_type": "execute_result"
    }
   ],
   "source": [
    "total = state.Confirmed+state.Recovered+state.Deaths\n",
    "total\n"
   ]
  },
  {
   "cell_type": "code",
   "execution_count": 8,
   "metadata": {},
   "outputs": [
    {
     "data": {
      "text/html": [
       "<div>\n",
       "<style scoped>\n",
       "    .dataframe tbody tr th:only-of-type {\n",
       "        vertical-align: middle;\n",
       "    }\n",
       "\n",
       "    .dataframe tbody tr th {\n",
       "        vertical-align: top;\n",
       "    }\n",
       "\n",
       "    .dataframe thead th {\n",
       "        text-align: right;\n",
       "    }\n",
       "</style>\n",
       "<table border=\"1\" class=\"dataframe\">\n",
       "  <thead>\n",
       "    <tr style=\"text-align: right;\">\n",
       "      <th></th>\n",
       "      <th>State</th>\n",
       "      <th>Confirmed</th>\n",
       "      <th>Recovered</th>\n",
       "      <th>Deaths</th>\n",
       "      <th>Active</th>\n",
       "      <th>Last_Updated_Time</th>\n",
       "      <th>Migrated_Other</th>\n",
       "      <th>State_code</th>\n",
       "      <th>Delta_Confirmed</th>\n",
       "      <th>Delta_Recovered</th>\n",
       "      <th>Delta_Deaths</th>\n",
       "      <th>State_Notes</th>\n",
       "    </tr>\n",
       "  </thead>\n",
       "  <tbody>\n",
       "    <tr>\n",
       "      <th>17</th>\n",
       "      <td>Punjab</td>\n",
       "      <td>7587</td>\n",
       "      <td>5040</td>\n",
       "      <td>195</td>\n",
       "      <td>2352</td>\n",
       "      <td>11/07/2020 19:56:10</td>\n",
       "      <td>0</td>\n",
       "      <td>PB</td>\n",
       "      <td>230</td>\n",
       "      <td>23</td>\n",
       "      <td>8</td>\n",
       "      <td>NaN</td>\n",
       "    </tr>\n",
       "  </tbody>\n",
       "</table>\n",
       "</div>"
      ],
      "text/plain": [
       "     State  Confirmed  Recovered  Deaths  Active    Last_Updated_Time  \\\n",
       "17  Punjab       7587       5040     195    2352  11/07/2020 19:56:10   \n",
       "\n",
       "    Migrated_Other State_code  Delta_Confirmed  Delta_Recovered  Delta_Deaths  \\\n",
       "17               0         PB              230               23             8   \n",
       "\n",
       "   State_Notes  \n",
       "17         NaN  "
      ]
     },
     "execution_count": 8,
     "metadata": {},
     "output_type": "execute_result"
    }
   ],
   "source": [
    "state"
   ]
  },
  {
   "cell_type": "code",
   "execution_count": 11,
   "metadata": {},
   "outputs": [
    {
     "name": "stderr",
     "output_type": "stream",
     "text": [
      "C:\\Users\\LENOVO\\anaconda3\\lib\\site-packages\\ipykernel_launcher.py:9: MatplotlibDeprecationWarning: Non-1D inputs to pie() are currently squeeze()d, but this behavior is deprecated since 3.1 and will be removed in 3.3; pass a 1D array instead.\n",
      "  if __name__ == '__main__':\n"
     ]
    },
    {
     "data": {
      "image/png": "[encoded data removed]",
      "text/plain": [
       "<Figure size 432x288 with 1 Axes>"
      ]
     },
     "metadata": {},
     "output_type": "display_data"
    }
   ],
   "source": [
    "from pandas import DataFrame\n",
    "\n",
    "Data = {'Cases': [7587,5040,195, 2352]}\n",
    "df = DataFrame(Data,columns=['Cases'])\n",
    "my_labels = 'Confirmed','Recovered','Deaths', 'Active'\n",
    "plt.title('Covid 19 Analyses of Punjab')\n",
    "my_colors = ['green','seagreen','red', 'pink']\n",
    "my_explode = (0, 0.1, 0, 0.1)\n",
    "plt.pie(df, labels=my_labels, autopct='%1.1f%%', startangle=10, shadow = True, colors=my_colors, explode=my_explode)\n",
    "plt.axis('equal')\n",
    "plt.show()"
   ]
  },
  {
   "cell_type": "code",
   "execution_count": null,
   "metadata": {},
   "outputs": [],
   "source": []
  }
 ],
 "metadata": {
  "kernelspec": {
   "display_name": "Python 3",
   "language": "python",
   "name": "python3"
  },
  "language_info": {
   "codemirror_mode": {
    "name": "ipython",
    "version": 3
   },
   "file_extension": ".py",
   "mimetype": "text/x-python",
   "name": "python",
   "nbconvert_exporter": "python",
   "pygments_lexer": "ipython3",
   "version": "3.7.6"
  }
 },
 "nbformat": 4,
 "nbformat_minor": 4
}
