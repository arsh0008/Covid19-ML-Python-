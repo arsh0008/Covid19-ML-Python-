{
 "cells": [
  {
   "cell_type": "markdown",
   "metadata": {},
   "source": [
    "# This Cell Is For Data Extraction : "
   ]
  },
  {
   "cell_type": "code",
   "execution_count": null,
   "metadata": {},
   "outputs": [],
   "source": [
    "import pandas as pd\n",
    "from pandas import DataFrame as df\n",
    "from matplotlib import style, pyplot as plot\n",
    "from datetime import datetime\n",
    "\n",
    "df = pd.read_csv('covid_19_india .csv', index_col=1, parse_dates=True, dayfirst=True)\n",
    "\n",
    "start_date = '2020-06-01'\n",
    "end_date   = '2020-06-30'\n",
    "\n",
    "df = df.loc[start_date : end_date]\n",
    "\n",
    "dFrame = df.loc[(df['State/UnionTerritory'] == 'Delhi')]\n",
    "\n",
    "df = pd.DataFrame(dFrame)\n",
    "\n",
    "df = df.reset_index()\n",
    "\n",
    "df.get(['Sno', 'Date', 'State/UnionTerritory', 'Cured', 'Deaths', 'Confirmed'])\n",
    "\n",
    "for ind in df.index: \n",
    "    #Extract data row by row\n",
    "    df['Date'][ind], df['State/UnionTerritory'][ind], df['Cured'][ind], df['Deaths'][ind], df['Confirmed'][ind]\n",
    "df"
   ]
  },
  {
   "cell_type": "markdown",
   "metadata": {},
   "source": [
    "# This Cell Is Representing Graph :"
   ]
  },
  {
   "cell_type": "code",
   "execution_count": null,
   "metadata": {},
   "outputs": [],
   "source": [
    "dateList = [i.strftime(\"%d\") for i in df['Date'].tolist()]\n",
    "\n",
    "\n",
    "plot.plot(dateList,df['Confirmed'].tolist(),'g', label='Confirmed In Delhi', linewidth =3)\n",
    "plot.plot(dateList,df['Cured'].tolist(),'b', label='Cured In Delhi', linewidth =3)\n",
    "plot.plot(dateList,df['Deaths'].tolist(),'r', label='Deaths In Delhi', linewidth =3)\n",
    "\n",
    "plot.title('COVID-19 DATA ')\n",
    "plot.xlabel('Days Of June')\n",
    "plot.ylabel('Number Of People')\n",
    "plot.legend()\n",
    "\n",
    "plot.grid(True, color='K')\n",
    "plot.legend(loc='best')\n",
    "plot.savefig('Delhi1.jpg')\n",
    "plot.show()"
   ]
  },
  {
   "cell_type": "code",
   "execution_count": null,
   "metadata": {},
   "outputs": [],
   "source": []
  }
 ],
 "metadata": {
  "kernelspec": {
   "display_name": "Python 3",
   "language": "python",
   "name": "python3"
  },
  "language_info": {
   "codemirror_mode": {
    "name": "ipython",
    "version": 3
   },
   "file_extension": ".py",
   "mimetype": "text/x-python",
   "name": "python",
   "nbconvert_exporter": "python",
   "pygments_lexer": "ipython3",
   "version": "3.7.6"
  }
 },
 "nbformat": 4,
 "nbformat_minor": 4
}
