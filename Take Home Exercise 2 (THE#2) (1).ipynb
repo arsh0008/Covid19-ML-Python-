{
 "cells": [
  {
   "cell_type": "code",
   "execution_count": 10,
   "metadata": {},
   "outputs": [],
   "source": [
    "import tkinter as tk\n",
    "master = tk.Tk()\n",
    "from tkinter import *\n",
    "tkvar1 = IntVar(master)\n",
    "\n",
    "def ifr_calculator():\n",
    "    infected = int(e1.get())\n",
    "    recovered = int(e2.get())\n",
    "    deceased = int(e3.get())\n",
    "    \n",
    "    Ans1 = (int(e3.get()) / int(e1.get()))*100\n",
    "    tkvar1.set(Ans1)\n",
    "    Entry(master, text = \"%s\" %(tkvar1)).grid(row =9, column =1)\n",
    "    \n",
    "def cmr_calculator():\n",
    "    infected = int(e1.get())\n",
    "    recovered = int(e2.get())\n",
    "    deceased = int(e3.get())\n",
    "    \n",
    "    total = infected + recovered + deceased\n",
    "    \n",
    "    Ans2 = (deceased/total)*100\n",
    "    tkvar1.set(Ans2)\n",
    "    Entry(master, text = \"%s\" %(tkvar1)).grid(row =9, column =1)\n",
    "    \n",
    "    \n",
    "master.title(\"Pandemic Analytics Engine\")\n",
    "label = tk.Label(master, text = \"Pandemic Analyzer !\", fg = \"blue\", font = 50).grid(row=1, sticky='w')"
   ]
  },
  {
   "cell_type": "code",
   "execution_count": 11,
   "metadata": {},
   "outputs": [],
   "source": [
    "tk.Label(master, text=\"Select State : \", fg= \"white\", font = 50).grid(row=2, sticky = 'w')\n",
    "\n",
    "mainframe = tk.Frame(master)\n",
    "mainframe.grid(column=1, row=2, sticky = 'w')\n",
    "mainframe.columnconfigure(1, weight = 1)\n",
    "mainframe.rowconfigure(2, weight =1)\n",
    "\n",
    "tkvar = StringVar(master)\n",
    "choice = {'Andaman and Nicobar', 'Andhra Pradesh', 'Arunachal Pradesh', 'Assam', 'Bihar', 'Chandigarh', 'Chhattisgarh' ,\n",
    "            'Dadra and Nagar Havei', 'Dehli', 'Goa', 'Gujrat', 'Haryana', 'Himachal Pradesh', 'Jammu and Kashmir', \n",
    "            'Jharkand', 'Karnataka', 'Kerala','Ladakh', 'Lakshadweep', 'Madhya Pradesh', 'Maharashtra', 'Manipur', \n",
    "            'Meghalaya', 'Mizoram', 'Nagaland', 'odisha' ,'Puducherry', 'Punjab', 'Rajasthan', 'Sikkim', 'Tamil Nadu', \n",
    "            'Telengana', 'Tripura', 'uttar Pradesh', 'Uttarakhand', 'West Bengal'}\n",
    "tkvar.set('Choose a State')\n",
    "\n",
    "popUpMenu = OptionMenu(mainframe, tkvar, *choice)\n",
    "popUpMenu.grid(row = 2, column =1)\n",
    "\n",
    "def change_Dropdown(*args):\n",
    "    print(tkvar.get())"
   ]
  },
  {
   "cell_type": "code",
   "execution_count": 12,
   "metadata": {},
   "outputs": [],
   "source": [
    "tk.Label(master, text=\"Infected :\",fg = \"yellow\", font = 50).grid(row=3, sticky='w')\n",
    "tk.Label(master, text=\"Recovered :\", fg = \"green\", font = 50 ).grid(row=4, sticky='W')\n",
    "tk.Label(master, text=\"Deceased :\",fg = \"red\", font = 50).grid(row=5, sticky='W')\n",
    "\n",
    "e1 = tk.Entry(master, bg = \"yellow\")\n",
    "e2 = tk.Entry(master , bg = \"green\")\n",
    "e3 = tk.Entry(master, bg = \"red\")\n",
    "\n",
    "e1.grid(row=3, column=1)\n",
    "e2.grid(row=4, column=1)\n",
    "e3.grid(row=5, column=1)\n",
    "\n",
    "button1=tk.Button(master, text=\"I.F.R\", command = ifr_calculator, width = 10)\n",
    "button1.grid(row=7, column=1)\n",
    "\n",
    "button1=tk.Button(master, text=\"C.M.R\",command = cmr_calculator, width = 10 )\n",
    "button1.grid(row=7, column=2)\n",
    "\n",
    "tk.Label(master, text=\"Value :\",fg = \"blue\", font = 50).grid(row=9, sticky='W')\n",
    "e4 = tk.Entry(master)\n",
    "e4.grid(row = 9, column = 1)\n",
    "\n",
    "master.mainloop()"
   ]
  },
  {
   "cell_type": "code",
   "execution_count": null,
   "metadata": {},
   "outputs": [],
   "source": []
  }
 ],
 "metadata": {
  "kernelspec": {
   "display_name": "Python 3",
   "language": "python",
   "name": "python3"
  },
  "language_info": {
   "codemirror_mode": {
    "name": "ipython",
    "version": 3
   },
   "file_extension": ".py",
   "mimetype": "text/x-python",
   "name": "python",
   "nbconvert_exporter": "python",
   "pygments_lexer": "ipython3",
   "version": "3.7.6"
  }
 },
 "nbformat": 4,
 "nbformat_minor": 4
}
