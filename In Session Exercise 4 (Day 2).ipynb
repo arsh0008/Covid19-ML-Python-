{
 "cells": [
  {
   "cell_type": "code",
   "execution_count": 5,
   "metadata": {},
   "outputs": [],
   "source": [
    "District = \"Mumbai\""
   ]
  },
  {
   "cell_type": "code",
   "execution_count": 9,
   "metadata": {},
   "outputs": [],
   "source": [
    "def IFR(Deaths, Infected):\n",
    "    ifr = (Deaths/Infected)*100\n",
    "    print(\"IFR for District {0} is {1}\".format(District, ifr))\n",
    "    \n",
    "def CMR(Infected, Deaths, Recovered):\n",
    "    total = Infected + Deaths + Recovered\n",
    "    cmr = (Deaths / total)*1000\n",
    "    print(\"CMR for District {0} is {1}\".format(District, cmr))\n"
   ]
  },
  {
   "cell_type": "code",
   "execution_count": 10,
   "metadata": {},
   "outputs": [
    {
     "name": "stdout",
     "output_type": "stream",
     "text": [
      "IFR for District Mumbai is 4.196316143957364\n",
      "CMR for District Mumbai is 27.266932422532797\n"
     ]
    }
   ],
   "source": [
    "IFR(5732 , 136596)\n",
    "CMR(136596, 5732, 67890)"
   ]
  },
  {
   "cell_type": "code",
   "execution_count": null,
   "metadata": {},
   "outputs": [],
   "source": []
  }
 ],
 "metadata": {
  "kernelspec": {
   "display_name": "Python 3",
   "language": "python",
   "name": "python3"
  },
  "language_info": {
   "codemirror_mode": {
    "name": "ipython",
    "version": 3
   },
   "file_extension": ".py",
   "mimetype": "text/x-python",
   "name": "python",
   "nbconvert_exporter": "python",
   "pygments_lexer": "ipython3",
   "version": "3.7.6"
  }
 },
 "nbformat": 4,
 "nbformat_minor": 4
}
