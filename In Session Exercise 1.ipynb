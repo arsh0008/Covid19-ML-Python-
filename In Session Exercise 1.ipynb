{
 "cells": [
  {
   "cell_type": "code",
   "execution_count": 32,
   "metadata": {},
   "outputs": [],
   "source": [
    "Till_Date = 1234\n",
    "Infected_10_june_2020 = 12\n",
    "Infected_11_june_2020 = 2\n",
    "Infected_12_june_2020 = 13\n",
    "District = \"Gwalior\""
   ]
  },
  {
   "cell_type": "code",
   "execution_count": 33,
   "metadata": {},
   "outputs": [],
   "source": [
    "per = ((Infected_12_june_2020-Infected_10_june_2020)/Infected_12_june_2020)*100"
   ]
  },
  {
   "cell_type": "code",
   "execution_count": 34,
   "metadata": {},
   "outputs": [
    {
     "name": "stdout",
     "output_type": "stream",
     "text": [
      "% change in the infected cases in given 3 days is 7.6923076923076925 in Gwalior\n"
     ]
    }
   ],
   "source": [
    "print(\"% change in the infected cases in given 3 days is {0} in {1}\".format(per,District))"
   ]
  },
  {
   "cell_type": "code",
   "execution_count": null,
   "metadata": {},
   "outputs": [],
   "source": []
  }
 ],
 "metadata": {
  "kernelspec": {
   "display_name": "Python 3",
   "language": "python",
   "name": "python3"
  },
  "language_info": {
   "codemirror_mode": {
    "name": "ipython",
    "version": 3
   },
   "file_extension": ".py",
   "mimetype": "text/x-python",
   "name": "python",
   "nbconvert_exporter": "python",
   "pygments_lexer": "ipython3",
   "version": "3.7.6"
  }
 },
 "nbformat": 4,
 "nbformat_minor": 4
}
