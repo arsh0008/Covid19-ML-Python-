{
 "cells": [
  {
   "cell_type": "code",
   "execution_count": 2,
   "metadata": {},
   "outputs": [],
   "source": [
    "My_List1 = [\"Andaman and Nicobar\", \"Andhra Pradesh\", \"Arunachal Pradesh\", \"Assam\", \"Bihar\", \"Chandigarh\", \"Chhattisgarh\" ,\n",
    "            \"Dadra and Nagar Havei\", \"Dehli\", \"Goa\", \"Gujrat\", \"Haryana\", \"Himachal Pradesh\", \"Jammu and Kashmir\", \n",
    "            \"Jharkand\", \"Karnataka\", \"Kerala\",\"Ladakh\", \"Lakshadweep\", \"Madhya Pradesh\", \"Maharashtra\", \"Manipur\", \n",
    "            \"Meghalaya\", \"Mizoram\", \"Nagaland\", \"odisha\" ,\"Puducherry\", \"Punjab\", \"Rajasthan\", \"Sikkim\", \"Tamil Nadu\", \n",
    "            \"Telengana\", \"Tripura\", \"uttar Pradesh\", \"Uttarakhand\", \"West Bengal\"]\n",
    "My_List2 = [100, 15252, 195, 8582, 10249, 446, 2940,215,89802, 1387, 33232, 14941, 979, 76, 2521, 16514, 4593, 990, 0, \n",
    "            13861, 180298, 1260, 52, 160, 459, 7316, 714, 5668, 18312, 101, 94049, 17357, 1396, 24056, 2947, 19170]"
   ]
  },
  {
   "cell_type": "code",
   "execution_count": 3,
   "metadata": {},
   "outputs": [],
   "source": [
    "My_dict = {\"Andaman and Nicobar\" : 100, \"Andhra Pradesh\" : 15252, \"Arunachal Pradesh\" : 195, \"Assam\" : 8582, \"Bihar\" : 10249, \n",
    "           \"Chandigarh\" : 446, \"Chhattisgarh\" :  2940, \"Dadra and Nagar Havei\" : 215, \"Dehli\" : 89802, \"Goa\" : 1387, \n",
    "           \"Gujrat\" : 33232, \"Haryana\" : 14941, \"Himachal Pradesh\" : 979, \"Jammu and Kashmir\" : 76, \"Jharkand\" : 2521, \n",
    "           \"Karnataka\" : 16514, \"Kerala\" : 4593,\"Ladakh\" : 990, \"Lakshadweep\" : 0, \"Madhya Pradesh\" : 13861, \n",
    "           \"Maharashtra\" : 180298, \"Manipur\" : 1260, \"Meghalaya\" : 52, \"Mizoram\" : 160, \"Nagaland\" : 459, \"odisha\" : 7316 ,\n",
    "           \"Puducherry\" : 714, \"Punjab\" : 5668, \"Rajasthan\" : 18312, \"Sikkim\" : 101, \"Tamil Nadu\" : 94049, \n",
    "           \"Telengana\" : 17357, \"Tripura\" : 1396, \"uttar Pradesh\" : 24056, \"Uttarakhand\" : 2947, \"West Bengal\" : 19170}"
   ]
  },
  {
   "cell_type": "code",
   "execution_count": 4,
   "metadata": {},
   "outputs": [],
   "source": [
    "My_Tupple = (\"Andaman and Nicobar\", \"Andhra Pradesh\", \"Arunachal Pradesh\", \"Assam\", \"Bihar\", \"Chandigarh\", \"Chhattisgarh\" ,\n",
    "            \"Dadra and Nagar Havei\", \"Dehli\", \"Goa\", \"Gujrat\", \"Haryana\", \"Himachal Pradesh\", \"Jammu and Kashmir\", \n",
    "            \"Jharkand\", \"Karnataka\", \"Kerala\",\"Ladakh\", \"Lakshadweep\", \"Madhya Pradesh\", \"Maharashtra\", \"Manipur\", \n",
    "            \"Meghalaya\", \"Mizoram\", \"Nagaland\", \"odisha\" ,\"Puducherry\", \"Punjab\", \"Rajasthan\", \"Sikkim\", \"Tamil Nadu\", \n",
    "            \"Telengana\", \"Tripura\", \"uttar Pradesh\", \"Uttarakhand\", \"West Bengal\")"
   ]
  },
  {
   "cell_type": "code",
   "execution_count": 16,
   "metadata": {},
   "outputs": [
    {
     "name": "stdout",
     "output_type": "stream",
     "text": [
      "Andaman and Nicobar\n",
      "Andhra Pradesh\n",
      "Arunachal Pradesh\n",
      "Assam\n",
      "Bihar\n",
      "Chandigarh\n",
      "Chhattisgarh\n",
      "Dadra and Nagar Havei\n",
      "Dehli\n",
      "Goa\n",
      "Gujrat\n",
      "Haryana\n",
      "Himachal Pradesh\n",
      "Jammu and Kashmir\n",
      "Jharkand\n",
      "Karnataka\n",
      "Kerala\n",
      "Ladakh\n",
      "Lakshadweep\n",
      "Madhya Pradesh\n",
      "Maharashtra\n",
      "Manipur\n",
      "Meghalaya\n",
      "Mizoram\n",
      "Nagaland\n",
      "odisha\n",
      "Puducherry\n",
      "Punjab\n",
      "Rajasthan\n",
      "Sikkim\n",
      "Tamil Nadu\n",
      "Telengana\n",
      "Tripura\n",
      "uttar Pradesh\n",
      "Uttarakhand\n",
      "West Bengal\n"
     ]
    }
   ],
   "source": [
    "my_string = '\\n'.join(My_List1)\n",
    "print(my_string)"
   ]
  },
  {
   "cell_type": "code",
   "execution_count": 18,
   "metadata": {},
   "outputs": [
    {
     "name": "stdout",
     "output_type": "stream",
     "text": [
      "36\n"
     ]
    }
   ],
   "source": [
    "print(len(My_List2))"
   ]
  },
  {
   "cell_type": "code",
   "execution_count": 23,
   "metadata": {},
   "outputs": [
    {
     "name": "stdout",
     "output_type": "stream",
     "text": [
      "('Andaman and Nicobar', 'Andhra Pradesh', 'Arunachal Pradesh', 'Assam', 'Bihar', 'Chandigarh', 'Chhattisgarh', 'Dadra and Nagar Havei', 'Dehli', 'Goa', 'Gujrat', 'Haryana', 'Himachal Pradesh', 'Jammu and Kashmir', 'Jharkand', 'Karnataka', 'Kerala', 'Ladakh', 'Lakshadweep', 'Madhya Pradesh', 'Maharashtra', 'Manipur', 'Meghalaya', 'Mizoram', 'Nagaland', 'odisha', 'Puducherry', 'Punjab', 'Rajasthan', 'Sikkim', 'Tamil Nadu', 'Telengana', 'Tripura', 'uttar Pradesh', 'Uttarakhand', 'West Bengal')\n"
     ]
    }
   ],
   "source": [
    "print(My_Tupple)\n"
   ]
  },
  {
   "cell_type": "code",
   "execution_count": 22,
   "metadata": {},
   "outputs": [
    {
     "name": "stdout",
     "output_type": "stream",
     "text": [
      "{'Andaman and Nicobar': 100, 'Andhra Pradesh': 15252, 'Arunachal Pradesh': 195, 'Assam': 8582, 'Bihar': 10249, 'Chandigarh': 446, 'Chhattisgarh': 2940, 'Dadra and Nagar Havei': 215, 'Dehli': 89802, 'Goa': 1387, 'Gujrat': 33232, 'Haryana': 14941, 'Himachal Pradesh': 979, 'Jammu and Kashmir': 76, 'Jharkand': 2521, 'Karnataka': 16514, 'Kerala': 4593, 'Ladakh': 990, 'Lakshadweep': 0, 'Madhya Pradesh': 13861, 'Maharashtra': 180298, 'Manipur': 1260, 'Meghalaya': 52, 'Mizoram': 160, 'Nagaland': 459, 'odisha': 7316, 'Puducherry': 714, 'Punjab': 5668, 'Rajasthan': 18312, 'Sikkim': 101, 'Tamil Nadu': 94049, 'Telengana': 17357, 'Tripura': 1396, 'uttar Pradesh': 24056, 'Uttarakhand': 2947, 'West Bengal': 19170}\n"
     ]
    }
   ],
   "source": [
    "print(My_dict)"
   ]
  },
  {
   "cell_type": "code",
   "execution_count": 39,
   "metadata": {},
   "outputs": [
    {
     "name": "stdout",
     "output_type": "stream",
     "text": [
      "Andaman and Nicobar - 100\n",
      "Andhra Pradesh - 15252\n",
      "Arunachal Pradesh - 195\n",
      "Assam - 8582\n",
      "Bihar - 10249\n",
      "Chandigarh - 446\n",
      "Chhattisgarh - 2940\n",
      "Dadra and Nagar Havei - 215\n",
      "Dehli - 89802\n",
      "Goa - 1387\n",
      "Gujrat - 33232\n",
      "Haryana - 14941\n",
      "Himachal Pradesh - 979\n",
      "Jammu and Kashmir - 76\n",
      "Jharkand - 2521\n",
      "Karnataka - 16514\n",
      "Kerala - 4593\n",
      "Ladakh - 990\n",
      "Lakshadweep - 0\n",
      "Madhya Pradesh - 13861\n",
      "Maharashtra - 180298\n",
      "Manipur - 1260\n",
      "Meghalaya - 52\n",
      "Mizoram - 160\n",
      "Nagaland - 459\n",
      "odisha - 7316\n",
      "Puducherry - 714\n",
      "Punjab - 5668\n",
      "Rajasthan - 18312\n",
      "Sikkim - 101\n",
      "Tamil Nadu - 94049\n",
      "Telengana - 17357\n",
      "Tripura - 1396\n",
      "uttar Pradesh - 24056\n",
      "Uttarakhand - 2947\n",
      "West Bengal - 19170\n"
     ]
    }
   ],
   "source": [
    "for k,v in My_dict.items():\n",
    "    print(\"{0} - {1}\".format(k, v))"
   ]
  },
  {
   "cell_type": "code",
   "execution_count": null,
   "metadata": {},
   "outputs": [],
   "source": []
  }
 ],
 "metadata": {
  "kernelspec": {
   "display_name": "Python 3",
   "language": "python",
   "name": "python3"
  },
  "language_info": {
   "codemirror_mode": {
    "name": "ipython",
    "version": 3
   },
   "file_extension": ".py",
   "mimetype": "text/x-python",
   "name": "python",
   "nbconvert_exporter": "python",
   "pygments_lexer": "ipython3",
   "version": "3.7.6"
  }
 },
 "nbformat": 4,
 "nbformat_minor": 4
}
